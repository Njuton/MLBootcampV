{
 "cells": [
  {
   "cell_type": "markdown",
   "metadata": {},
   "source": [
    "### ML Bootcamp V. Предсказание сердечно-сосудистых заболеваний. Решение на 48 место"
   ]
  },
  {
   "cell_type": "markdown",
   "metadata": {},
   "source": [
    "##### Изначально было занято 87 место, однако после доработки программы удалось немного передвинуться =)"
   ]
  },
  {
   "cell_type": "markdown",
   "metadata": {},
   "source": [
    "##### Автор: Мартынов Роман"
   ]
  },
  {
   "cell_type": "code",
   "execution_count": 1,
   "metadata": {},
   "outputs": [
    {
     "name": "stderr",
     "output_type": "stream",
     "text": [
      "C:\\Anaconda3\\lib\\site-packages\\sklearn\\cross_validation.py:44: DeprecationWarning: This module was deprecated in version 0.18 in favor of the model_selection module into which all the refactored classes and functions are moved. Also note that the interface of the new CV iterators are different from that of this module. This module will be removed in 0.20.\n",
      "  \"This module will be removed in 0.20.\", DeprecationWarning)\n"
     ]
    }
   ],
   "source": [
    "import math\n",
    "import pickle\n",
    "import warnings\n",
    "import numpy as np\n",
    "import pandas as pd\n",
    "import seaborn as sns\n",
    "import matplotlib.pyplot as plt\n",
    "from collections import Counter\n",
    "from xgboost import XGBClassifier\n",
    "from lightgbm import LGBMClassifier\n",
    "from pandas import DataFrame, Series\n",
    "from sklearn.pipeline import Pipeline\n",
    "from matplotlib.colors import ListedColormap\n",
    "from sklearn.preprocessing import StandardScaler\n",
    "from sklearn.linear_model import LogisticRegression\n",
    "from sklearn.mixture import BayesianGaussianMixture\n",
    "from sklearn.ensemble import BaggingClassifier, VotingClassifier\n",
    "from sklearn.model_selection import GridSearchCV, cross_val_score\n",
    "from imblearn.under_sampling import InstanceHardnessThreshold\n",
    "warnings.filterwarnings(\"ignore\")\n",
    "%matplotlib inline"
   ]
  },
  {
   "cell_type": "markdown",
   "metadata": {},
   "source": [
    "##### Предобработка "
   ]
  },
  {
   "cell_type": "code",
   "execution_count": 2,
   "metadata": {
    "collapsed": true
   },
   "outputs": [],
   "source": [
    "df_train = pd.read_csv(r'data\\train.csv', sep=';')\n",
    "y_train = df_train['cardio']\n",
    "df_train.drop(['id', 'cardio'], axis=1, inplace = True)\n",
    "\n",
    "df_test = pd.read_csv(r'data\\test.csv', sep=';', na_values='None')\n",
    "del df_test['id']"
   ]
  },
  {
   "cell_type": "code",
   "execution_count": 3,
   "metadata": {},
   "outputs": [
    {
     "data": {
      "text/html": [
       "<div>\n",
       "<style>\n",
       "    .dataframe thead tr:only-child th {\n",
       "        text-align: right;\n",
       "    }\n",
       "\n",
       "    .dataframe thead th {\n",
       "        text-align: left;\n",
       "    }\n",
       "\n",
       "    .dataframe tbody tr th {\n",
       "        vertical-align: top;\n",
       "    }\n",
       "</style>\n",
       "<table border=\"1\" class=\"dataframe\">\n",
       "  <thead>\n",
       "    <tr style=\"text-align: right;\">\n",
       "      <th></th>\n",
       "      <th>age</th>\n",
       "      <th>gender</th>\n",
       "      <th>height</th>\n",
       "      <th>weight</th>\n",
       "      <th>ap_hi</th>\n",
       "      <th>ap_lo</th>\n",
       "      <th>cholesterol</th>\n",
       "      <th>gluc</th>\n",
       "      <th>smoke</th>\n",
       "      <th>alco</th>\n",
       "      <th>active</th>\n",
       "    </tr>\n",
       "  </thead>\n",
       "  <tbody>\n",
       "    <tr>\n",
       "      <th>0</th>\n",
       "      <td>18393</td>\n",
       "      <td>2</td>\n",
       "      <td>168</td>\n",
       "      <td>62.0</td>\n",
       "      <td>110</td>\n",
       "      <td>80</td>\n",
       "      <td>1</td>\n",
       "      <td>1</td>\n",
       "      <td>0</td>\n",
       "      <td>0</td>\n",
       "      <td>1</td>\n",
       "    </tr>\n",
       "    <tr>\n",
       "      <th>1</th>\n",
       "      <td>20228</td>\n",
       "      <td>1</td>\n",
       "      <td>156</td>\n",
       "      <td>85.0</td>\n",
       "      <td>140</td>\n",
       "      <td>90</td>\n",
       "      <td>3</td>\n",
       "      <td>1</td>\n",
       "      <td>0</td>\n",
       "      <td>0</td>\n",
       "      <td>1</td>\n",
       "    </tr>\n",
       "    <tr>\n",
       "      <th>2</th>\n",
       "      <td>18857</td>\n",
       "      <td>1</td>\n",
       "      <td>165</td>\n",
       "      <td>64.0</td>\n",
       "      <td>130</td>\n",
       "      <td>70</td>\n",
       "      <td>3</td>\n",
       "      <td>1</td>\n",
       "      <td>0</td>\n",
       "      <td>0</td>\n",
       "      <td>0</td>\n",
       "    </tr>\n",
       "    <tr>\n",
       "      <th>3</th>\n",
       "      <td>17623</td>\n",
       "      <td>2</td>\n",
       "      <td>169</td>\n",
       "      <td>82.0</td>\n",
       "      <td>150</td>\n",
       "      <td>100</td>\n",
       "      <td>1</td>\n",
       "      <td>1</td>\n",
       "      <td>0</td>\n",
       "      <td>0</td>\n",
       "      <td>1</td>\n",
       "    </tr>\n",
       "    <tr>\n",
       "      <th>4</th>\n",
       "      <td>17474</td>\n",
       "      <td>1</td>\n",
       "      <td>156</td>\n",
       "      <td>56.0</td>\n",
       "      <td>100</td>\n",
       "      <td>60</td>\n",
       "      <td>1</td>\n",
       "      <td>1</td>\n",
       "      <td>0</td>\n",
       "      <td>0</td>\n",
       "      <td>0</td>\n",
       "    </tr>\n",
       "  </tbody>\n",
       "</table>\n",
       "</div>"
      ],
      "text/plain": [
       "     age  gender  height  weight  ap_hi  ap_lo  cholesterol  gluc  smoke  \\\n",
       "0  18393       2     168    62.0    110     80            1     1      0   \n",
       "1  20228       1     156    85.0    140     90            3     1      0   \n",
       "2  18857       1     165    64.0    130     70            3     1      0   \n",
       "3  17623       2     169    82.0    150    100            1     1      0   \n",
       "4  17474       1     156    56.0    100     60            1     1      0   \n",
       "\n",
       "   alco  active  \n",
       "0     0       1  \n",
       "1     0       1  \n",
       "2     0       0  \n",
       "3     0       1  \n",
       "4     0       0  "
      ]
     },
     "execution_count": 3,
     "metadata": {},
     "output_type": "execute_result"
    }
   ],
   "source": [
    "df_train.head()"
   ]
  },
  {
   "cell_type": "code",
   "execution_count": 4,
   "metadata": {},
   "outputs": [
    {
     "data": {
      "text/html": [
       "<div>\n",
       "<style>\n",
       "    .dataframe thead tr:only-child th {\n",
       "        text-align: right;\n",
       "    }\n",
       "\n",
       "    .dataframe thead th {\n",
       "        text-align: left;\n",
       "    }\n",
       "\n",
       "    .dataframe tbody tr th {\n",
       "        vertical-align: top;\n",
       "    }\n",
       "</style>\n",
       "<table border=\"1\" class=\"dataframe\">\n",
       "  <thead>\n",
       "    <tr style=\"text-align: right;\">\n",
       "      <th></th>\n",
       "      <th>age</th>\n",
       "      <th>gender</th>\n",
       "      <th>height</th>\n",
       "      <th>weight</th>\n",
       "      <th>ap_hi</th>\n",
       "      <th>ap_lo</th>\n",
       "      <th>cholesterol</th>\n",
       "      <th>gluc</th>\n",
       "      <th>smoke</th>\n",
       "      <th>alco</th>\n",
       "      <th>active</th>\n",
       "    </tr>\n",
       "  </thead>\n",
       "  <tbody>\n",
       "    <tr>\n",
       "      <th>0</th>\n",
       "      <td>18888</td>\n",
       "      <td>1</td>\n",
       "      <td>154</td>\n",
       "      <td>85.0</td>\n",
       "      <td>130</td>\n",
       "      <td>80</td>\n",
       "      <td>1</td>\n",
       "      <td>1</td>\n",
       "      <td>0.0</td>\n",
       "      <td>0.0</td>\n",
       "      <td>1.0</td>\n",
       "    </tr>\n",
       "    <tr>\n",
       "      <th>1</th>\n",
       "      <td>19042</td>\n",
       "      <td>2</td>\n",
       "      <td>170</td>\n",
       "      <td>69.0</td>\n",
       "      <td>130</td>\n",
       "      <td>90</td>\n",
       "      <td>1</td>\n",
       "      <td>1</td>\n",
       "      <td>NaN</td>\n",
       "      <td>0.0</td>\n",
       "      <td>1.0</td>\n",
       "    </tr>\n",
       "    <tr>\n",
       "      <th>2</th>\n",
       "      <td>20432</td>\n",
       "      <td>1</td>\n",
       "      <td>160</td>\n",
       "      <td>70.0</td>\n",
       "      <td>120</td>\n",
       "      <td>75</td>\n",
       "      <td>1</td>\n",
       "      <td>1</td>\n",
       "      <td>0.0</td>\n",
       "      <td>0.0</td>\n",
       "      <td>0.0</td>\n",
       "    </tr>\n",
       "    <tr>\n",
       "      <th>3</th>\n",
       "      <td>18133</td>\n",
       "      <td>2</td>\n",
       "      <td>185</td>\n",
       "      <td>94.0</td>\n",
       "      <td>130</td>\n",
       "      <td>90</td>\n",
       "      <td>1</td>\n",
       "      <td>1</td>\n",
       "      <td>NaN</td>\n",
       "      <td>0.0</td>\n",
       "      <td>1.0</td>\n",
       "    </tr>\n",
       "    <tr>\n",
       "      <th>4</th>\n",
       "      <td>16093</td>\n",
       "      <td>2</td>\n",
       "      <td>170</td>\n",
       "      <td>76.0</td>\n",
       "      <td>120</td>\n",
       "      <td>80</td>\n",
       "      <td>1</td>\n",
       "      <td>1</td>\n",
       "      <td>0.0</td>\n",
       "      <td>0.0</td>\n",
       "      <td>1.0</td>\n",
       "    </tr>\n",
       "  </tbody>\n",
       "</table>\n",
       "</div>"
      ],
      "text/plain": [
       "     age  gender  height  weight  ap_hi  ap_lo  cholesterol  gluc  smoke  \\\n",
       "0  18888       1     154    85.0    130     80            1     1    0.0   \n",
       "1  19042       2     170    69.0    130     90            1     1    NaN   \n",
       "2  20432       1     160    70.0    120     75            1     1    0.0   \n",
       "3  18133       2     185    94.0    130     90            1     1    NaN   \n",
       "4  16093       2     170    76.0    120     80            1     1    0.0   \n",
       "\n",
       "   alco  active  \n",
       "0   0.0     1.0  \n",
       "1   0.0     1.0  \n",
       "2   0.0     0.0  \n",
       "3   0.0     1.0  \n",
       "4   0.0     1.0  "
      ]
     },
     "execution_count": 4,
     "metadata": {},
     "output_type": "execute_result"
    }
   ],
   "source": [
    "df_test.head()"
   ]
  },
  {
   "cell_type": "markdown",
   "metadata": {},
   "source": [
    "##### -----Исправление роста/веса-----"
   ]
  },
  {
   "cell_type": "code",
   "execution_count": 5,
   "metadata": {},
   "outputs": [
    {
     "data": {
      "image/png": "[encoded data removed]",
      "text/plain": [
       "<matplotlib.figure.Figure at 0x4ae34e0>"
      ]
     },
     "metadata": {},
     "output_type": "display_data"
    }
   ],
   "source": [
    "all_data_input = pd.concat([df_train, df_test])\n",
    "all_data_input['imt'] = all_data_input.weight / (np.square(all_data_input.height) / 10000)\n",
    "\n",
    "plt.scatter(all_data_input.weight, all_data_input.height, \n",
    "            c=((all_data_input.imt < 15) | (all_data_input.imt > 52)), s = 8, \n",
    "            cmap=ListedColormap(['dodgerblue','mediumvioletred']))\n",
    "plt.colorbar()\n",
    "plt.title('Исходные данные роста/веса. 0 - корректен, 1 - ошибка ')\n",
    "plt.xlabel('Вес (кг)')\n",
    "plt.ylabel('Рост (см)')\n",
    "\n",
    "del all_data_input"
   ]
  },
  {
   "cell_type": "code",
   "execution_count": 6,
   "metadata": {
    "collapsed": true
   },
   "outputs": [],
   "source": [
    "    def deviate_weight_height(Data, min_imt = 17, max_imt=50, coef_height = 24, coef_weight = 24, coef_age = 720):\n",
    "        \"\"\"Обработка некорректных данных в Data в столбцах 'weight', 'height'\n",
    "        --------\n",
    "        Некорректными считались данные пациентов, у которых Индекс Массы Тела -\n",
    "        ИМТ < min_imt (дистрофия)или ИМТ > max_imt (сверх ожирение)\n",
    "        --------\n",
    "        Параметры\n",
    "        --------\n",
    "        * max_imt - максимальный индекс ИМТ, говорящий об ожирении\n",
    "        * min_imt - минимальный индекс ИМТ, говорящий о дистрофии\n",
    "        * coef_height - ИМТ для рассчета веса по росту\n",
    "        * coef_weight - ИМТ для рассчета роста по весу\n",
    "        * coef_age - допустимый отступ от реального возраста влево/вправо для взятия среднего по росту и весу\n",
    "        \"\"\"\n",
    "\n",
    "        tmp_Data = Data.copy()\n",
    "        # переводим рост в метры\n",
    "        tmp_Data['height'] /= 100\n",
    "        tmp_Data['imt'] = tmp_Data['weight'] / (tmp_Data['height'] * tmp_Data['height'])\n",
    "        # выбор строк с некорректными данными\n",
    "        dev_Data = tmp_Data[(tmp_Data['imt'] > max_imt) | (tmp_Data['imt'] < min_imt)]\n",
    "        # выбор строк с корректными данными\n",
    "        not_dev_Data = tmp_Data[(tmp_Data['imt'] < max_imt) | (tmp_Data['imt'] > min_imt)]\n",
    "\n",
    "        new_weight = []\n",
    "        new_height = []\n",
    "        \n",
    "        for imt, weight, height, age in zip(dev_Data['imt'],dev_Data['weight'], dev_Data['height'], dev_Data['age']):\n",
    "            # если рост - нормальный, рассчитываем вес по росту\n",
    "            if height > 1.20 and height < 2.30:\n",
    "                weight = coef_height * height * height\n",
    "            # если вес - нормальный, рассчитываем рост по весу\n",
    "            elif weight > 30 and weight < 120:\n",
    "                height = math.sqrt(weight / coef_weight)\n",
    "            # иначе берем средний рост и вес по пациентам, возраст которых + - 2 года от возраста нашего пациента\n",
    "            else:\n",
    "                filter_Data = not_dev_Data[(not_dev_Data['age'] < age + coef_age) &\n",
    "                                            (not_dev_Data['age'] > age - coef_age)]\n",
    "                height = filter_Data['height'].mean()\n",
    "                weight = filter_Data['weight'].mean()\n",
    "                \n",
    "            new_height.append(height)\n",
    "            new_weight.append(weight)\n",
    "\n",
    "        # изменяем некорректные значения на скорректированные\n",
    "        mask = (tmp_Data['imt'] > max_imt) | (tmp_Data['imt'] < min_imt)\n",
    "        \n",
    "        tmp_Data['height'][mask] = Series(new_height, index=dev_Data.index)\n",
    "        tmp_Data['weight'][mask] = Series(new_weight, index=dev_Data.index)\n",
    "        # переводим рост в сантиметры\n",
    "        tmp_Data['height'] *= 100\n",
    "        # удаляем вставленный столбец с ИМТ\n",
    "        tmp_Data = tmp_Data.drop('imt', axis=1)\n",
    "        return tmp_Data"
   ]
  },
  {
   "cell_type": "code",
   "execution_count": 7,
   "metadata": {
    "collapsed": true
   },
   "outputs": [],
   "source": [
    "df_train = deviate_weight_height(df_train, max_imt=52, min_imt=15)\n",
    "df_test = deviate_weight_height(df_test, max_imt=52, min_imt=15)"
   ]
  },
  {
   "cell_type": "code",
   "execution_count": 8,
   "metadata": {},
   "outputs": [
    {
     "data": {
      "image/png": "[encoded data removed]",
      "text/plain": [
       "<matplotlib.figure.Figure at 0xd16c390>"
      ]
     },
     "metadata": {},
     "output_type": "display_data"
    }
   ],
   "source": [
    "all_data_normal_weight_height = pd.concat([df_train, df_test])\n",
    "plt.scatter(all_data_normal_weight_height.weight, all_data_normal_weight_height.height, s = 8, c = 'dodgerblue')\n",
    "plt.title('Рост/вес после предобработки.')\n",
    "plt.xlabel('Вес (кг)')\n",
    "plt.ylabel('Рост (см)')\n",
    "del all_data_normal_weight_height"
   ]
  },
  {
   "cell_type": "markdown",
   "metadata": {},
   "source": [
    "##### -----Исправление давления-----"
   ]
  },
  {
   "cell_type": "code",
   "execution_count": 9,
   "metadata": {
    "collapsed": true
   },
   "outputs": [],
   "source": [
    "def deviate_arterial_pressure(Data):\n",
    "    \"\"\"Обработка некорректных данных в Data в столбцах 'ap_hi', 'ap_lo'\n",
    "    --------\n",
    "    Некорректными данными считались данные, в которых верхнее давление ниже нижнего,\n",
    "    верхнее давление < 30 или >300, нижнее < 30 или выше 200\n",
    "    --------\n",
    "    Предполагаем, что верхнее давление может быть [малое (<30), нормальное (>30 && <300), большое (>300)]\n",
    "    Предполагаем, что нижнее давление может быть [малое (<10), нормальное (>10 && <300), большое (>200)]\n",
    "    \"\"\"\n",
    "    # перевод отрицательных значений в положительные целые\n",
    "    df_abs = Data\n",
    "    df_abs[['ap_hi', 'ap_lo']] = Data[['ap_hi', 'ap_lo']].abs().astype(int)\n",
    "\n",
    "    # выбор тех строк таблицы, которые содержат неверные данные о давлении\n",
    "    mask = (df_abs['ap_hi'] > 300) | (df_abs['ap_hi'] < 30) | (df_abs['ap_lo'] > 200) | (df_abs['ap_lo'] < 10)\n",
    "    dev_data = df_abs[['ap_hi', 'ap_lo']][mask]\n",
    "\n",
    "    # средние нормальные давления\n",
    "    ap_hi_mean = df_abs['ap_hi'].mean()\n",
    "    ap_lo_mean = df_abs['ap_lo'].mean()\n",
    "\n",
    "    new_ap_hi = []\n",
    "    new_ap_lo = []\n",
    "        \n",
    "    for ap_hi, ap_lo in zip(dev_data['ap_hi'], dev_data['ap_lo']):\n",
    "        err_flag = True\n",
    "        \n",
    "        # оба давления в норме\n",
    "        if ap_hi < 300 and ap_hi > 30 and ap_lo < 200 and ap_lo > 10 and ap_hi > ap_lo:\n",
    "            err_flag = False\n",
    "            new_ap_hi.append(ap_hi)\n",
    "            new_ap_lo.append(ap_lo)\n",
    "                \n",
    "        # верхнее норма, нижнее большое (160/1100 -> 160/110)\n",
    "        elif ap_hi < 300 and ap_hi > 30 and ap_lo > 200:\n",
    "            tmp_ap_hi = ap_hi\n",
    "            tmp_ap_lo = ap_lo\n",
    "            f = True\n",
    "            while(len(str(ap_lo))>1):\n",
    "                ap_lo /= 10\n",
    "                ap_lo = math.trunc(ap_lo)\n",
    "                if ap_lo < 300 and ap_hi > ap_lo:\n",
    "                    f = False\n",
    "                    err_flag = False\n",
    "                    new_ap_lo.append(ap_lo)\n",
    "                    new_ap_hi.append(ap_hi)\n",
    "                    break\n",
    "            if f:\n",
    "                ap_hi, ap_lo = tmp_ap_hi, tmp_ap_lo\n",
    "                    \n",
    "        # верхнее большое, нижнее норма (1600/90 -> 160/90)\n",
    "        elif ap_hi > 300 and ap_lo < 200 and ap_lo > 10:\n",
    "            tmp_ap_hi = ap_hi\n",
    "            tmp_ap_lo = ap_lo\n",
    "            f = True\n",
    "            while(len(str(ap_hi) )> 1):\n",
    "                ap_hi /= 10\n",
    "                ap_hi = math.trunc(ap_hi)\n",
    "                if ap_hi < 300 and ap_hi > ap_lo:\n",
    "                    f = False\n",
    "                    err_flag = False\n",
    "                    new_ap_lo.append(ap_lo)\n",
    "                    new_ap_hi.append(ap_hi)\n",
    "                    break\n",
    "            if f:\n",
    "                ap_hi, ap_lo = tmp_ap_hi, tmp_ap_lo\n",
    "                    \n",
    "        # верхнее большое, нижнее малое (906/0 -> 90/60)\n",
    "        elif ap_hi > 300 and ap_lo < 10:\n",
    "            mod = ap_hi % 10\n",
    "            ap_hi /= 10\n",
    "            ap_hi = math.trunc(ap_hi)\n",
    "            ap_lo = int(str(mod) + str(ap_lo))\n",
    "            if ap_hi < 300 and ap_lo > 10 and ap_hi > ap_lo:\n",
    "                err_flag = False\n",
    "                new_ap_lo.append(ap_lo)\n",
    "                new_ap_hi.append(ap_hi)\n",
    "                    \n",
    "        # верхнее малое, нижнее большое (9/770 -> 97/70)\n",
    "        elif ap_hi < 30 and ap_lo > 200:\n",
    "            len_ap_lo = len(str(ap_lo))\n",
    "            first_digit = ap_lo / int('1' + '0' * (len_ap_lo - 1))\n",
    "            first_digit = math.trunc(first_digit)\n",
    "            ap_lo = ap_lo % int('1' + '0' * (len_ap_lo - 1))\n",
    "            ap_hi = int(str(ap_hi) + str(first_digit))\n",
    "            if ap_hi < 300 and ap_lo > 10 and ap_hi > ap_lo:\n",
    "                err_flag = False\n",
    "                new_ap_lo.append(ap_lo)\n",
    "                new_ap_hi.append(ap_hi)\n",
    "                    \n",
    "        # верхнее норма, нижнее малое (120/8 -> 120/80)\n",
    "        elif ap_hi < 300 and ap_hi > 10 and ap_lo < 10 and ap_lo != 0:\n",
    "            ap_lo *= 10\n",
    "            if ap_lo > 10 and ap_hi > ap_lo:\n",
    "                err_flag = False\n",
    "                new_ap_lo.append(ap_lo)\n",
    "                new_ap_hi.append(ap_hi)\n",
    "                    \n",
    "        # верхнее малое, нижнее норма (8/60 -> 80/60)\n",
    "        elif ap_hi < 30 and ap_lo < 200 and ap_lo > 10 and ap_hi != 0:\n",
    "            ap_hi *= 10\n",
    "            if ap_hi > 10 and ap_hi > ap_lo:\n",
    "                err_flag = False\n",
    "                new_ap_lo.append(ap_lo)\n",
    "                new_ap_hi.append(ap_hi)\n",
    "            \n",
    "        # ошибка в давлении не исправлена\n",
    "        if err_flag:\n",
    "                \n",
    "            # если оба давления нормальны, но они переставлены местами -> переставляем их (90/180 -> 180/90)\n",
    "            if ap_hi < 300 and ap_hi > 30 and ap_lo < 200 and ap_lo > 10 and ap_hi < ap_lo:\n",
    "                ap_hi, ap_lo = ap_lo, ap_hi\n",
    "                new_ap_lo.append(ap_lo)\n",
    "                new_ap_hi.append(ap_hi)\n",
    "                \n",
    "            # если верхнее давление нормально, а нижнее с отклонением, заменяем нижнее на среднее\n",
    "            elif ap_hi < 300 and ap_hi > 30:\n",
    "                ap_lo = df_abs['ap_lo'][df_abs['ap_hi'] == ap_hi].mean()\n",
    "                if ap_hi < ap_lo:\n",
    "                    ap_hi, ap_lo = ap_lo, ap_hi\n",
    "                new_ap_lo.append(ap_lo)\n",
    "                new_ap_hi.append(ap_hi)\n",
    "                if math.isnan(new_ap_lo[-1]) or math.isnan(new_ap_hi[-1]):\n",
    "                    new_ap_lo[-1] = ap_lo_mean\n",
    "                    new_ap_hi[-1] = ap_hi_mean\n",
    "                        \n",
    "            # если нижнее давление нормально, а а верхнее с отклонением, заменяем верхнее на среднее\n",
    "            elif ap_lo < 200 and ap_lo > 10:\n",
    "                ap_hi = df_abs['ap_hi'][df_abs['ap_lo'] == ap_lo].mean()\n",
    "                if ap_hi < ap_lo:\n",
    "                    ap_hi, ap_lo = ap_lo, ap_hi\n",
    "                new_ap_lo.append(ap_lo)\n",
    "                new_ap_hi.append(ap_hi)\n",
    "                if math.isnan(new_ap_lo[-1]) or math.isnan(new_ap_hi[-1]):\n",
    "                    new_ap_lo[-1] = ap_lo_mean\n",
    "                    new_ap_hi[-1] = ap_hi_mean\n",
    "                        \n",
    "            # заменяем оба значения давления на средние по всей выборке\n",
    "            else:\n",
    "                new_ap_lo.append(ap_lo_mean)\n",
    "                new_ap_hi.append(ap_hi_mean)\n",
    "                    \n",
    "    ap_lo_Series = Series(new_ap_lo, index=dev_data['ap_lo'].index)\n",
    "    ap_hi_Series = Series(new_ap_hi, index=dev_data['ap_hi'].index)\n",
    "\n",
    "    # Замена неверных значений исправленными\n",
    "    mask = (df_abs['ap_hi'] > 300) | (df_abs['ap_hi'] < 30) | (df_abs['ap_lo'] > 200) | (df_abs['ap_lo'] < 10)\n",
    "    df_abs['ap_hi'][mask] = ap_hi_Series\n",
    "    mask = (df_abs['ap_hi'] > 300) | (df_abs['ap_hi'] < 30) | (df_abs['ap_lo'] > 200) | (df_abs['ap_lo'] < 10)\n",
    "    df_abs['ap_lo'][mask] = ap_lo_Series\n",
    "\n",
    "    return df_abs"
   ]
  },
  {
   "cell_type": "code",
   "execution_count": 10,
   "metadata": {
    "collapsed": true
   },
   "outputs": [],
   "source": [
    "df_train = deviate_arterial_pressure(df_train)\n",
    "df_test = deviate_arterial_pressure(df_test)"
   ]
  },
  {
   "cell_type": "code",
   "execution_count": 11,
   "metadata": {},
   "outputs": [
    {
     "data": {
      "image/png": "[encoded data removed]",
      "text/plain": [
       "<matplotlib.figure.Figure at 0xcb95d68>"
      ]
     },
     "metadata": {},
     "output_type": "display_data"
    }
   ],
   "source": [
    "all_data_normal_pressure = pd.concat([df_train, df_test])\n",
    "\n",
    "plt.scatter(all_data_normal_pressure.ap_lo, all_data_normal_pressure.ap_hi, s = 8, c = 'dodgerblue')\n",
    "plt.title('Давление после предобработки.')\n",
    "plt.xlabel('Нижнее давление (мм. рт. ст.)')\n",
    "plt.ylabel('Верхнее давление (мм. рт. ст.)')\n",
    "\n",
    "del all_data_normal_pressure"
   ]
  },
  {
   "cell_type": "markdown",
   "metadata": {},
   "source": [
    "##### -----Прогнозирование употребления алкоголя, занятий спортом, курения-----"
   ]
  },
  {
   "cell_type": "code",
   "execution_count": 12,
   "metadata": {
    "collapsed": true
   },
   "outputs": [],
   "source": [
    "    def alco_prognoze(Data_train, Data_test):\n",
    "        \"\"\"Прогнозирование употребления алкоголя для NaN значений в столбце 'alco' тестовых данных.\n",
    "        \n",
    "        Наилучшие результаты получены с помощью применения одного из методов андерсэмплинга к тренировочной выборке.\"\"\"\n",
    "        \n",
    "        tmp_df_train, tmp_df_test = Data_train, Data_test\n",
    "        tmp_df_train = tmp_df_train.drop(['active', 'smoke'], axis=1)\n",
    "        tmp_df_test = tmp_df_test.drop(['active', 'smoke'], axis=1)\n",
    "\n",
    "        # формирование тренировочной (вся тренировочная + не NaN тестовой) и тестовой (только NaN) выборок\n",
    "        \n",
    "        X_train_alco = pd.concat([tmp_df_train, tmp_df_test[~np.isnan(tmp_df_test['alco'])]])\n",
    "        X_train_alco = X_train_alco.drop(['alco'], axis=1)\n",
    "        y_train_alco = pd.concat([tmp_df_train['alco'], tmp_df_test['alco'][~np.isnan(tmp_df_test['alco'])]])\n",
    "\n",
    "        X_test_alco = tmp_df_test[np.isnan(tmp_df_test['alco'])].drop(['alco'], axis = 1)\n",
    "\n",
    "        # Macro-f-measure: 0.5463\n",
    "        clf = BaggingClassifier(n_estimators=33)\n",
    "        pipe_clf = Pipeline([('std', StandardScaler()), ('clf', clf)])\n",
    "\n",
    "        # работа с несбалансированной выборкой\n",
    "        smp = InstanceHardnessThreshold\n",
    "        X_train, y_train = smp().fit_sample(X_train_alco.values, y_train_alco.values)\n",
    "\n",
    "        print('**********Alco prognose**********')\n",
    "        print('Balance method: {}, train shape: {}'.format(smp.__name__, Counter(y_train)))\n",
    "        \n",
    "        # обучение классификатора и предскаание\n",
    "        pipe_clf.fit(X_train, y_train)\n",
    "        y_predict = pipe_clf.predict(np.array(X_test_alco))\n",
    "        print('Число предсказанных 1/0: {}'.format(Counter(y_predict)))\n",
    "\n",
    "        # замена NaN на полученные новые значения\n",
    "        Data_test['alco'][np.isnan(Data_test['alco'])] = Series(y_predict, index=X_test_alco.index)\n",
    "        return Data_test"
   ]
  },
  {
   "cell_type": "code",
   "execution_count": 13,
   "metadata": {
    "collapsed": true
   },
   "outputs": [],
   "source": [
    " def smoke_prognoze(Data_train, Data_test):\n",
    "        \"\"\"Прогнозирование курения для NaN значений в столбце 'smoke' тестовых данных\"\"\"\n",
    "        \n",
    "        tmp_df_train, tmp_df_test = Data_train, Data_test\n",
    "        tmp_df_train = tmp_df_train.drop(['active'], axis=1)\n",
    "        tmp_df_test = tmp_df_test.drop(['active'], axis=1)\n",
    "\n",
    "        # формирование тренировочной (вся тренировочная + не NaN тестовой) и тестовой (только NaN) выборок\n",
    "        X_train_smoke = pd.concat([tmp_df_train, tmp_df_test[~np.isnan(tmp_df_test['smoke'])]])\n",
    "        X_train_smoke = X_train_smoke.drop(['smoke'], axis=1)\n",
    "        y_train_smoke = pd.concat([tmp_df_train['smoke'], tmp_df_test['smoke'][~np.isnan(tmp_df_test['smoke'])]])\n",
    "\n",
    "        X_test_smoke = tmp_df_test[np.isnan(tmp_df_test['smoke'])].drop(['smoke'], axis = 1)\n",
    "\n",
    "        # Macro-f-measure: 0.6673 (если есть алкоголь)\n",
    "        clf = LogisticRegression()\n",
    "        pipe_clf = Pipeline([('std', StandardScaler()), ('clf', clf)])\n",
    "        X_train, y_train = X_train_smoke, y_train_smoke\n",
    "        print('**********Smoke prognose**********')\n",
    "        print('Balance method: {}, train shape: {}'.format('-', Counter(y_train)))\n",
    "\n",
    "        # обучение классификатора и предскаание\n",
    "        pipe_clf.fit(X_train, y_train)\n",
    "        y_predict = pipe_clf.predict(np.array(X_test_smoke))\n",
    "        print('Число предсказанных 1/0: {}'.format(Counter(y_predict)))\n",
    "\n",
    "        # замена NaN на полученные новые значения\n",
    "        Data_test['smoke'][np.isnan(Data_test['smoke'])] = Series(y_predict, index=X_test_smoke.index)\n",
    "\n",
    "        return Data_test"
   ]
  },
  {
   "cell_type": "code",
   "execution_count": 14,
   "metadata": {
    "collapsed": true
   },
   "outputs": [],
   "source": [
    "    def active_prognoze(Data_train, Data_test):\n",
    "        \"\"\"Прогнозирование курения для NaN значений в столбце 'smoke' тестовых данных\"\"\"\n",
    "        \n",
    "        tmp_df_train, tmp_df_test = Data_train, Data_test\n",
    "\n",
    "        # формирование тренировочной (вся тренировочная + не NaN тестовой) и тестовой (только NaN) выборок\n",
    "        X_train_active = pd.concat([tmp_df_train, tmp_df_test[~np.isnan(tmp_df_test['active'])]])\n",
    "        X_train_active = X_train_active.drop(['active'], axis=1)\n",
    "        y_train_active = pd.concat([tmp_df_train['active'], tmp_df_test['active'][~np.isnan(tmp_df_test['active'])]])\n",
    "\n",
    "        X_test_active = tmp_df_test[np.isnan(tmp_df_test['active'])].drop(['active'], axis = 1)\n",
    "\n",
    "        # Macro F-measure: 0.5104\n",
    "        clf = BaggingClassifier(n_estimators=6)\n",
    "        pipe_clf = Pipeline([('std', StandardScaler()), ('clf', clf)])\n",
    "        X_train, y_train = X_train_active, y_train_active\n",
    "        print('**********Active prognose**********')\n",
    "        print('Balance method: {}, train shape: {}'.format('-', Counter(y_train)))\n",
    "\n",
    "        # обучение классификатора и предскаание\n",
    "        pipe_clf.fit(X_train, y_train)\n",
    "        y_predict = pipe_clf.predict(np.array(X_test_active))\n",
    "        print('Число предсказанных 1/0: {}'.format(Counter(y_predict)))\n",
    "\n",
    "        # замена NaN на полученные новые значения\n",
    "        Data_test['active'][np.isnan(Data_test['active'])] = Series(y_predict, index=X_test_active.index)\n",
    "        return Data_test"
   ]
  },
  {
   "cell_type": "code",
   "execution_count": 15,
   "metadata": {},
   "outputs": [
    {
     "name": "stdout",
     "output_type": "stream",
     "text": [
      "**********Alco prognose**********\n",
      "Balance method: InstanceHardnessThreshold, train shape: Counter({0.0: 62811, 1.0: 5233})\n",
      "Число предсказанных 1/0: Counter({0.0: 2849, 1.0: 182})\n",
      "**********Smoke prognose**********\n",
      "Balance method: -, train shape: Counter({0.0: 88432, 1.0: 8538})\n",
      "Число предсказанных 1/0: Counter({0.0: 2902, 1.0: 128})\n",
      "**********Active prognose**********\n",
      "Balance method: -, train shape: Counter({1.0: 78104, 0.0: 18999})\n",
      "Число предсказанных 1/0: Counter({1.0: 2420, 0.0: 477})\n"
     ]
    }
   ],
   "source": [
    "df_test = alco_prognoze(df_train, df_test)\n",
    "df_test = smoke_prognoze(df_train, df_test)\n",
    "df_test = active_prognoze(df_train, df_test)"
   ]
  },
  {
   "cell_type": "markdown",
   "metadata": {},
   "source": [
    "###### -----Генерация признаков и построение моделей-----"
   ]
  },
  {
   "cell_type": "markdown",
   "metadata": {},
   "source": [
    "##### Признаки подбирались вручную с помощью метода последовательного добавления признаков: классификатор стартует  с пустого множества, куда последовательно добавляются признаки (для выбора оптимального на каждом шаге)."
   ]
  },
  {
   "cell_type": "code",
   "execution_count": 16,
   "metadata": {
    "collapsed": true
   },
   "outputs": [],
   "source": [
    "data = pd.concat([df_train, df_test], ignore_index=True)\n",
    "train_index, test_index = np.arange(df_train.shape[0]), np.arange(df_train.shape[0], df_train.shape[0] + df_test.shape[0])"
   ]
  },
  {
   "cell_type": "code",
   "execution_count": 17,
   "metadata": {
    "collapsed": true
   },
   "outputs": [],
   "source": [
    "# добавляем индес массы тела\n",
    "data['bmi'] = data['weight'] / (data['height'] * data['height'] / 10000)\n",
    "\n",
    "# переводим возраст в годы\n",
    "data['age'] /= 360.25"
   ]
  },
  {
   "cell_type": "markdown",
   "metadata": {},
   "source": [
    "##### Разбиваем возраст на интервалы, границы которых получены с помощью нахождения пиков 13 компонент гауссовой смеси. Затем интервалы были поделены пополам, чтобы каждому возрасту соответствовал один интервал."
   ]
  },
  {
   "cell_type": "code",
   "execution_count": 18,
   "metadata": {},
   "outputs": [
    {
     "data": {
      "text/plain": [
       "<matplotlib.text.Text at 0xd1542b0>"
      ]
     },
     "execution_count": 18,
     "metadata": {},
     "output_type": "execute_result"
    },
    {
     "data": {
      "image/png": "[encoded data removed]",
      "text/plain": [
       "<matplotlib.figure.Figure at 0xcf37fd0>"
      ]
     },
     "metadata": {},
     "output_type": "display_data"
    }
   ],
   "source": [
    "bgm = BayesianGaussianMixture(n_components=13, random_state=5)\n",
    "bgm.fit(list(map(lambda x: [x], data.loc[train_index].age.values)))\n",
    "intervals = sorted(bgm.means_[:,0])\n",
    "\n",
    "for x in intervals:\n",
    "    plt.axvline(x, linewidth=2, c='r')\n",
    "    \n",
    "intervals_popolam = np.array([[left, (left + right) / 2] for left, right in zip(intervals[:-1], intervals[1:])]).flatten()\n",
    "\n",
    "for x in intervals_popolam[1::2]:\n",
    "    plt.axvline(x, linewidth=1, c='g')\n",
    "\n",
    "sns.distplot(data.age, bins=100)\n",
    "\n",
    "plt.title('Дискретизация возраста')\n",
    "plt.xlabel('Возраст')\n",
    "plt.ylabel('Встречаемость')"
   ]
  },
  {
   "cell_type": "code",
   "execution_count": 19,
   "metadata": {
    "collapsed": true
   },
   "outputs": [],
   "source": [
    "data['age'] = pd.cut(data.age, bins = [0] + list(intervals_popolam) + [71.7, 100], labels = False)"
   ]
  },
  {
   "cell_type": "code",
   "execution_count": 20,
   "metadata": {},
   "outputs": [
    {
     "data": {
      "text/plain": [
       "<matplotlib.text.Text at 0xd2ab668>"
      ]
     },
     "execution_count": 20,
     "metadata": {},
     "output_type": "execute_result"
    },
    {
     "data": {
      "image/png": "[encoded data removed]",
      "text/plain": [
       "<matplotlib.figure.Figure at 0xcf37780>"
      ]
     },
     "metadata": {},
     "output_type": "display_data"
    }
   ],
   "source": [
    "sns.distplot(data.age, bins=100)\n",
    "\n",
    "plt.title('Возраст после дискретизации')\n",
    "plt.xlabel('Возраст')\n",
    "plt.ylabel('Встречаемость')"
   ]
  },
  {
   "cell_type": "code",
   "execution_count": 21,
   "metadata": {
    "collapsed": true
   },
   "outputs": [],
   "source": [
    "data['log_ap_gi_*_log_gluc'] = np.log(data.iloc[:,4]) * data.iloc[:,7]\n",
    "\n",
    "data['log_height_*_log_ap_hi'] = np.log(data.iloc[:,2]) * data.iloc[:,4]\n",
    "\n",
    "data['log_ap_hi_*_log_ap_lo'] = np.log(data.iloc[:,4]) * np.log(data.iloc[:,5])\n",
    "\n",
    "data.drop(['weight'], axis=1, inplace=True)"
   ]
  },
  {
   "cell_type": "markdown",
   "metadata": {},
   "source": [
    "##### Параметры классификаторов подбирались с помощью поиска по сетке GridSearchCV"
   ]
  },
  {
   "cell_type": "code",
   "execution_count": 22,
   "metadata": {
    "collapsed": true
   },
   "outputs": [],
   "source": [
    "# 0.538604\n",
    "clf1 = XGBClassifier(n_estimators=198, max_depth=4, learning_rate=0.048, reg_lambda=14.954, subsample=0.7,\n",
    "                    objective='reg:logistic',min_child_weight=3, max_delta_step=1, gamma=0.01,\n",
    "                    base_score=0.49)\n",
    "\n",
    "# 0.538454\n",
    "clf2 = LGBMClassifier(n_estimators=61, max_depth=6, learning_rate=0.09, reg_lambda=9.994, subsample=0.7,\n",
    "                    min_data_in_leaf=0, bagging_freq=1, lambda_l1=0.0011, max_bin=217, min_data_in_bin=3,\n",
    "                    max_position=10, num_leaves=31)\n",
    "#0.53836\n",
    "vot = VotingClassifier([('clf1', clf1), ('clf2', clf2)], voting='soft')\n",
    "old_cl = Pipeline([('std', StandardScaler()), ('clf', vot)])\n"
   ]
  },
  {
   "cell_type": "code",
   "execution_count": 23,
   "metadata": {},
   "outputs": [
    {
     "name": "stdout",
     "output_type": "stream",
     "text": [
      "Финальный результат : -0.5380418304339964\n"
     ]
    }
   ],
   "source": [
    "print('Финальный результат : {}'.format(\n",
    "    np.mean(cross_val_score(old_cl, data.loc[train_index], y_train, scoring='neg_log_loss', cv=2))))"
   ]
  },
  {
   "cell_type": "code",
   "execution_count": 24,
   "metadata": {
    "collapsed": true
   },
   "outputs": [],
   "source": [
    "# запись ответов в файл\n",
    "old_cl.fit(data.loc[train_index].values, y_train.values)\n",
    "result = old_cl.predict_proba(data.loc[test_index].values)[:,1]\n",
    "pd.Series(result).to_csv('predict_proba.csv', index=False)"
   ]
  },
  {
   "cell_type": "markdown",
   "metadata": {},
   "source": [
    "##### Результат 0.538041 на cv соответсвует результату 0.531228 в привате, то есть является результатом на 48 место среди 656 участников"
   ]
  }
 ],
 "metadata": {
  "kernelspec": {
   "display_name": "Python 3",
   "language": "python",
   "name": "python3"
  },
  "language_info": {
   "codemirror_mode": {
    "name": "ipython",
    "version": 3
   },
   "file_extension": ".py",
   "mimetype": "text/x-python",
   "name": "python",
   "nbconvert_exporter": "python",
   "pygments_lexer": "ipython3",
   "version": "3.6.1"
  }
 },
 "nbformat": 4,
 "nbformat_minor": 2
}
